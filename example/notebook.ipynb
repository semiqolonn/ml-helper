{
 "cells": [
  {
   "cell_type": "code",
   "execution_count": 1,
   "id": "1fc8b524",
   "metadata": {},
   "outputs": [],
   "source": [
    "from sklearn.datasets import load_iris\n",
    "\n",
    "df = load_iris(as_frame=True).frame\n",
    "X = df.drop(columns='target')\n",
    "y = df['target']"
   ]
  },
  {
   "cell_type": "markdown",
   "id": "7dfc4c48",
   "metadata": {},
   "source": [
    "# BaselineModel test"
   ]
  },
  {
   "cell_type": "code",
   "execution_count": 2,
   "id": "2d5ab5cd",
   "metadata": {},
   "outputs": [
    {
     "name": "stderr",
     "output_type": "stream",
     "text": [
      "/home/semiqolonn/miniforge3/envs/ml/lib/python3.12/site-packages/tqdm/auto.py:21: TqdmWarning: IProgress not found. Please update jupyter and ipywidgets. See https://ipywidgets.readthedocs.io/en/stable/user_install.html\n",
      "  from .autonotebook import tqdm as notebook_tqdm\n",
      "2025-06-12 10:18:43,571 - INFO - Starting BaselineModel training for classification with metric: f1_weighted (Maximize: True)\n",
      "2025-06-12 10:18:43,571 - INFO - Validation set size: 20%\n",
      "2025-06-12 10:18:43,572 - INFO - Preprocessor type: general_ohe\n",
      "2025-06-12 10:18:43,572 - INFO - Numeric columns: ['sepal length (cm)', 'sepal width (cm)', 'petal length (cm)', 'petal width (cm)']\n",
      "2025-06-12 10:18:43,572 - INFO - Categorical columns: []\n",
      "2025-06-12 10:18:43,609 - INFO -   LGBM f1_weighted: train=1.0000, val=0.8997 (Time: 0.04s)\n",
      "2025-06-12 10:18:43,610 - INFO -   --> NEW BEST model: LGBM with f1_weighted: 0.8997\n",
      "2025-06-12 10:19:09,777 - INFO -   XGBoost f1_weighted: train=1.0000, val=0.9333 (Time: 26.17s)\n",
      "2025-06-12 10:19:09,778 - INFO -   --> NEW BEST model: XGBoost with f1_weighted: 0.9333\n",
      "2025-06-12 10:19:10,032 - INFO -   CatBoost f1_weighted: train=1.0000, val=0.9666 (Time: 0.25s)\n",
      "2025-06-12 10:19:10,032 - INFO -   --> NEW BEST model: CatBoost with f1_weighted: 0.9666\n",
      "2025-06-12 10:19:10,033 - INFO - BaselineModel run complete. Best model: CatBoostClassifier with f1_weighted: 0.9666\n"
     ]
    },
    {
     "data": {
      "application/vnd.microsoft.datawrangler.viewer.v0+json": {
       "columns": [
        {
         "name": "index",
         "rawType": "int64",
         "type": "integer"
        },
        {
         "name": "model",
         "rawType": "object",
         "type": "string"
        },
        {
         "name": "train_score",
         "rawType": "float64",
         "type": "float"
        },
        {
         "name": "val_score",
         "rawType": "float64",
         "type": "float"
        },
        {
         "name": "fit_time",
         "rawType": "float64",
         "type": "float"
        },
        {
         "name": "preprocessor_used",
         "rawType": "object",
         "type": "string"
        },
        {
         "name": "status",
         "rawType": "object",
         "type": "string"
        },
        {
         "name": "error_message",
         "rawType": "object",
         "type": "string"
        }
       ],
       "ref": "33ce7b7c-c694-4ba5-a82e-d69bf25063ef",
       "rows": [
        [
         "0",
         "LGBM",
         "1.0",
         "0.8997493734335839",
         "0.0376734733581543",
         "general_ohe",
         "Success",
         ""
        ],
        [
         "1",
         "XGBoost",
         "1.0",
         "0.9333333333333333",
         "26.167118549346924",
         "general_ohe",
         "Success",
         ""
        ],
        [
         "2",
         "CatBoost",
         "1.0",
         "0.9665831244778613",
         "0.25330686569213867",
         "catboost_internal",
         "Success",
         ""
        ]
       ],
       "shape": {
        "columns": 7,
        "rows": 3
       }
      },
      "text/html": [
       "<div>\n",
       "<style scoped>\n",
       "    .dataframe tbody tr th:only-of-type {\n",
       "        vertical-align: middle;\n",
       "    }\n",
       "\n",
       "    .dataframe tbody tr th {\n",
       "        vertical-align: top;\n",
       "    }\n",
       "\n",
       "    .dataframe thead th {\n",
       "        text-align: right;\n",
       "    }\n",
       "</style>\n",
       "<table border=\"1\" class=\"dataframe\">\n",
       "  <thead>\n",
       "    <tr style=\"text-align: right;\">\n",
       "      <th></th>\n",
       "      <th>model</th>\n",
       "      <th>train_score</th>\n",
       "      <th>val_score</th>\n",
       "      <th>fit_time</th>\n",
       "      <th>preprocessor_used</th>\n",
       "      <th>status</th>\n",
       "      <th>error_message</th>\n",
       "    </tr>\n",
       "  </thead>\n",
       "  <tbody>\n",
       "    <tr>\n",
       "      <th>0</th>\n",
       "      <td>LGBM</td>\n",
       "      <td>1.0</td>\n",
       "      <td>0.899749</td>\n",
       "      <td>0.037673</td>\n",
       "      <td>general_ohe</td>\n",
       "      <td>Success</td>\n",
       "      <td></td>\n",
       "    </tr>\n",
       "    <tr>\n",
       "      <th>1</th>\n",
       "      <td>XGBoost</td>\n",
       "      <td>1.0</td>\n",
       "      <td>0.933333</td>\n",
       "      <td>26.167119</td>\n",
       "      <td>general_ohe</td>\n",
       "      <td>Success</td>\n",
       "      <td></td>\n",
       "    </tr>\n",
       "    <tr>\n",
       "      <th>2</th>\n",
       "      <td>CatBoost</td>\n",
       "      <td>1.0</td>\n",
       "      <td>0.966583</td>\n",
       "      <td>0.253307</td>\n",
       "      <td>catboost_internal</td>\n",
       "      <td>Success</td>\n",
       "      <td></td>\n",
       "    </tr>\n",
       "  </tbody>\n",
       "</table>\n",
       "</div>"
      ],
      "text/plain": [
       "      model  train_score  val_score   fit_time  preprocessor_used   status  \\\n",
       "0      LGBM          1.0   0.899749   0.037673        general_ohe  Success   \n",
       "1   XGBoost          1.0   0.933333  26.167119        general_ohe  Success   \n",
       "2  CatBoost          1.0   0.966583   0.253307  catboost_internal  Success   \n",
       "\n",
       "  error_message  \n",
       "0                \n",
       "1                \n",
       "2                "
      ]
     },
     "execution_count": 2,
     "metadata": {},
     "output_type": "execute_result"
    }
   ],
   "source": [
    "from semiq_ml.baseline_model import BaselineModel\n",
    "\n",
    "baseline = BaselineModel(\n",
    "    task_type=\"classification\",\n",
    "    metric=\"f1_weighted\",\n",
    "    models=\"gbm\",\n",
    "    random_state=42,\n",
    ")\n",
    "baseline.fit(X, y)\n",
    "\n",
    "baseline.get_results()"
   ]
  },
  {
   "cell_type": "markdown",
   "id": "022d02f5",
   "metadata": {},
   "source": [
    "# OptunaOptimizer"
   ]
  },
  {
   "cell_type": "code",
   "execution_count": 3,
   "id": "327c8b2f",
   "metadata": {},
   "outputs": [
    {
     "name": "stderr",
     "output_type": "stream",
     "text": [
      "2025-06-12 10:19:10,042 - INFO - Setting number of classes to 3\n",
      "2025-06-12 10:19:10,043 - INFO - Starting hyperparameter optimization for LGBM\n",
      "2025-06-12 10:19:10,043 - INFO - Number of trials: 1, timeout: None\n",
      "[I 2025-06-12 10:19:10,043] A new study created in memory with name: no-name-2c2c3ee6-803d-4571-bf71-4db3fa694cc5\n",
      "  0%|          | 0/1 [00:00<?, ?it/s]2025-06-12 10:19:10,048 - INFO - Preprocessor type: general_ohe\n",
      "2025-06-12 10:19:10,048 - INFO - Numeric columns: ['sepal length (cm)', 'sepal width (cm)', 'petal length (cm)', 'petal width (cm)']\n",
      "2025-06-12 10:19:10,048 - INFO - Categorical columns: []\n",
      "2025-06-12 10:19:10,305 - INFO - Trial 0 for LGBM - f1_weighted: 0.9666 (Time: 0.26s)\n",
      "Best trial: 0. Best value: 0.966583: 100%|██████████| 1/1 [00:00<00:00,  3.80it/s]\n",
      "2025-06-12 10:19:10,309 - INFO - Optimization completed. Best score: 0.9665831244778613\n",
      "2025-06-12 10:19:10,309 - INFO - Best parameters: {'boosting_type': 'dart', 'learning_rate': 0.07661100707771368, 'num_leaves': 52, 'max_depth': 1, 'min_data_in_leaf': 15, 'min_sum_hessian_in_leaf': 2.9154431891537547, 'feature_fraction': 0.8005575058716043, 'bagging_fraction': 0.8540362888980227, 'bagging_freq': 1, 'lambda_l1': 7.579479953348009, 'lambda_l2': 2.1368329072358767, 'min_gain_to_split': 0.21233911067827616, 'extra_trees': False, 'n_estimators': 339, 'device': 'gpu', 'gpu_platform_id': 0, 'gpu_device_id': 0}\n",
      "2025-06-12 10:19:10,309 - INFO - Successful trials: 1 of 1\n"
     ]
    },
    {
     "name": "stdout",
     "output_type": "stream",
     "text": [
      "[I 2025-06-12 10:19:10,306] Trial 0 finished with value: 0.9665831244778613 and parameters: {'boosting_type': 'dart', 'learning_rate': 0.07661100707771368, 'num_leaves': 52, 'max_depth': 1, 'min_data_in_leaf': 15, 'min_sum_hessian_in_leaf': 2.9154431891537547, 'feature_fraction': 0.8005575058716043, 'bagging_fraction': 0.8540362888980227, 'bagging_freq': 1, 'lambda_l1': 7.579479953348009, 'lambda_l2': 2.1368329072358767, 'min_gain_to_split': 0.21233911067827616, 'extra_trees': False, 'n_estimators': 339, 'device': 'gpu', 'gpu_platform_id': 0, 'gpu_device_id': 0}. Best is trial 0 with value: 0.9665831244778613.\n"
     ]
    },
    {
     "data": {
      "text/plain": [
       "{'best_params': {'boosting_type': 'dart',\n",
       "  'learning_rate': 0.07661100707771368,\n",
       "  'num_leaves': 52,\n",
       "  'max_depth': 1,\n",
       "  'min_data_in_leaf': 15,\n",
       "  'min_sum_hessian_in_leaf': 2.9154431891537547,\n",
       "  'feature_fraction': 0.8005575058716043,\n",
       "  'bagging_fraction': 0.8540362888980227,\n",
       "  'bagging_freq': 1,\n",
       "  'lambda_l1': 7.579479953348009,\n",
       "  'lambda_l2': 2.1368329072358767,\n",
       "  'min_gain_to_split': 0.21233911067827616,\n",
       "  'extra_trees': False,\n",
       "  'n_estimators': 339,\n",
       "  'device': 'gpu',\n",
       "  'gpu_platform_id': 0,\n",
       "  'gpu_device_id': 0},\n",
       " 'best_value': 0.9665831244778613,\n",
       " 'best_trial': FrozenTrial(number=0, state=1, values=[0.9665831244778613], datetime_start=datetime.datetime(2025, 6, 12, 10, 19, 10, 45323), datetime_complete=datetime.datetime(2025, 6, 12, 10, 19, 10, 306584), params={'boosting_type': 'dart', 'learning_rate': 0.07661100707771368, 'num_leaves': 52, 'max_depth': 1, 'min_data_in_leaf': 15, 'min_sum_hessian_in_leaf': 2.9154431891537547, 'feature_fraction': 0.8005575058716043, 'bagging_fraction': 0.8540362888980227, 'bagging_freq': 1, 'lambda_l1': 7.579479953348009, 'lambda_l2': 2.1368329072358767, 'min_gain_to_split': 0.21233911067827616, 'extra_trees': False, 'n_estimators': 339, 'device': 'gpu', 'gpu_platform_id': 0, 'gpu_device_id': 0}, user_attrs={}, system_attrs={}, intermediate_values={}, distributions={'boosting_type': CategoricalDistribution(choices=('gbdt', 'dart', 'goss')), 'learning_rate': FloatDistribution(high=0.3, log=True, low=0.01, step=None), 'num_leaves': IntDistribution(high=256, log=False, low=15, step=1), 'max_depth': IntDistribution(high=15, log=False, low=-1, step=1), 'min_data_in_leaf': IntDistribution(high=100, log=False, low=10, step=1), 'min_sum_hessian_in_leaf': FloatDistribution(high=10.0, log=True, low=0.001, step=None), 'feature_fraction': FloatDistribution(high=1.0, log=False, low=0.5, step=None), 'bagging_fraction': FloatDistribution(high=1.0, log=False, low=0.5, step=None), 'bagging_freq': IntDistribution(high=10, log=False, low=1, step=1), 'lambda_l1': FloatDistribution(high=10.0, log=True, low=0.001, step=None), 'lambda_l2': FloatDistribution(high=10.0, log=True, low=0.001, step=None), 'min_gain_to_split': FloatDistribution(high=1.0, log=False, low=0.0, step=None), 'extra_trees': CategoricalDistribution(choices=(True, False)), 'n_estimators': IntDistribution(high=1000, log=False, low=50, step=1), 'device': CategoricalDistribution(choices=('gpu',)), 'gpu_platform_id': IntDistribution(high=0, log=False, low=0, step=1), 'gpu_device_id': IntDistribution(high=0, log=False, low=0, step=1)}, trial_id=0, value=None),\n",
       " 'trials': [FrozenTrial(number=0, state=1, values=[0.9665831244778613], datetime_start=datetime.datetime(2025, 6, 12, 10, 19, 10, 45323), datetime_complete=datetime.datetime(2025, 6, 12, 10, 19, 10, 306584), params={'boosting_type': 'dart', 'learning_rate': 0.07661100707771368, 'num_leaves': 52, 'max_depth': 1, 'min_data_in_leaf': 15, 'min_sum_hessian_in_leaf': 2.9154431891537547, 'feature_fraction': 0.8005575058716043, 'bagging_fraction': 0.8540362888980227, 'bagging_freq': 1, 'lambda_l1': 7.579479953348009, 'lambda_l2': 2.1368329072358767, 'min_gain_to_split': 0.21233911067827616, 'extra_trees': False, 'n_estimators': 339, 'device': 'gpu', 'gpu_platform_id': 0, 'gpu_device_id': 0}, user_attrs={}, system_attrs={}, intermediate_values={}, distributions={'boosting_type': CategoricalDistribution(choices=('gbdt', 'dart', 'goss')), 'learning_rate': FloatDistribution(high=0.3, log=True, low=0.01, step=None), 'num_leaves': IntDistribution(high=256, log=False, low=15, step=1), 'max_depth': IntDistribution(high=15, log=False, low=-1, step=1), 'min_data_in_leaf': IntDistribution(high=100, log=False, low=10, step=1), 'min_sum_hessian_in_leaf': FloatDistribution(high=10.0, log=True, low=0.001, step=None), 'feature_fraction': FloatDistribution(high=1.0, log=False, low=0.5, step=None), 'bagging_fraction': FloatDistribution(high=1.0, log=False, low=0.5, step=None), 'bagging_freq': IntDistribution(high=10, log=False, low=1, step=1), 'lambda_l1': FloatDistribution(high=10.0, log=True, low=0.001, step=None), 'lambda_l2': FloatDistribution(high=10.0, log=True, low=0.001, step=None), 'min_gain_to_split': FloatDistribution(high=1.0, log=False, low=0.0, step=None), 'extra_trees': CategoricalDistribution(choices=(True, False)), 'n_estimators': IntDistribution(high=1000, log=False, low=50, step=1), 'device': CategoricalDistribution(choices=('gpu',)), 'gpu_platform_id': IntDistribution(high=0, log=False, low=0, step=1), 'gpu_device_id': IntDistribution(high=0, log=False, low=0, step=1)}, trial_id=0, value=None)],\n",
       " 'study': <optuna.study.study.Study at 0x71a4cc3bc0e0>,\n",
       " 'completed_trials': 1,\n",
       " 'failed_trials': 0,\n",
       " 'pruned_trials': 0}"
      ]
     },
     "execution_count": 3,
     "metadata": {},
     "output_type": "execute_result"
    }
   ],
   "source": [
    "from semiq_ml.tuning import OptunaOptimizer\n",
    "tuner = OptunaOptimizer(\n",
    "    task_type=\"classification\",\n",
    "    metric=\"f1_weighted\",\n",
    "    n_trials=1,\n",
    "    gpu=True,\n",
    ")\n",
    "\n",
    "\n",
    "tuned_xgb = tuner.tune_model(\"LGBM\", X, y, n_jobs=1)\n",
    "tuner.get_tuning_results()"
   ]
  }
 ],
 "metadata": {
  "kernelspec": {
   "display_name": "ml",
   "language": "python",
   "name": "python3"
  },
  "language_info": {
   "codemirror_mode": {
    "name": "ipython",
    "version": 3
   },
   "file_extension": ".py",
   "mimetype": "text/x-python",
   "name": "python",
   "nbconvert_exporter": "python",
   "pygments_lexer": "ipython3",
   "version": "3.12.0"
  }
 },
 "nbformat": 4,
 "nbformat_minor": 5
}
